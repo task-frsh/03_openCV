{
 "cells": [
  {
   "cell_type": "markdown",
   "metadata": {},
   "source": [
    "# 윈도우에서 폴더 삭제"
   ]
  },
  {
   "cell_type": "code",
   "execution_count": null,
   "metadata": {},
   "outputs": [],
   "source": [
    "# cmd 명령어\n",
    "\n",
    "rmdir /s /q ex1\n",
    "\n",
    "# cmd 터미널에서 실행한다\n",
    "# 삭제하려는 폴더에 가서 실행한다\n",
    "# ex1 폴더를 삭제 한다"
   ]
  },
  {
   "cell_type": "code",
   "execution_count": null,
   "metadata": {},
   "outputs": [],
   "source": [
    "import os\n",
    "\n",
    "# 파이썬 실행 프로세스에서 자식 프로세스 생성\n",
    "# cmd 터미널 프로세스 생성 > 터미널 명령어 아래 실행\n",
    "\n",
    "os.system(\"rmdir /s /q ex1\")"
   ]
  }
 ],
 "metadata": {
  "language_info": {
   "name": "python"
  }
 },
 "nbformat": 4,
 "nbformat_minor": 2
}
